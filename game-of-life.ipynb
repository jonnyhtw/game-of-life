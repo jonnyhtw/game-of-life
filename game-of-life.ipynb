{
 "cells": [
  {
   "cell_type": "code",
   "execution_count": 26,
   "id": "3f6ad968",
   "metadata": {},
   "outputs": [],
   "source": [
    "import numpy as np\n",
    "import matplotlib.pyplot as plt\n",
    "import copy"
   ]
  },
  {
   "cell_type": "code",
   "execution_count": 32,
   "id": "e82a73b5",
   "metadata": {},
   "outputs": [],
   "source": [
    "size = 100\n",
    "\n",
    "init = np.zeros(shape = (size,size))"
   ]
  },
  {
   "cell_type": "code",
   "execution_count": 33,
   "id": "96aa78cf",
   "metadata": {},
   "outputs": [
    {
     "data": {
      "text/plain": [
       "(100, 100)"
      ]
     },
     "execution_count": 33,
     "metadata": {},
     "output_type": "execute_result"
    }
   ],
   "source": [
    "init.shape"
   ]
  },
  {
   "cell_type": "code",
   "execution_count": 34,
   "id": "42016cad",
   "metadata": {},
   "outputs": [],
   "source": [
    "array = copy.deepcopy(init)"
   ]
  },
  {
   "cell_type": "code",
   "execution_count": 42,
   "id": "361062c8",
   "metadata": {},
   "outputs": [],
   "source": [
    "for i in range(10):\n",
    "\n",
    "    indexx = np.random.randint(0,size-1)\n",
    "    indexy = np.random.randint(0,size-1)\n",
    "    \n",
    "    array[indexx, indexy] = 1"
   ]
  },
  {
   "cell_type": "code",
   "execution_count": 43,
   "id": "79c9c1e9",
   "metadata": {},
   "outputs": [
    {
     "data": {
      "image/png": "[encoded data removed]",
      "text/plain": [
       "<Figure size 360x360 with 1 Axes>"
      ]
     },
     "metadata": {
      "needs_background": "light"
     },
     "output_type": "display_data"
    }
   ],
   "source": [
    "fig = plt.figure(figsize=[5,5])\n",
    "\n",
    "plt.pcolormesh(array)\n",
    "\n",
    "plt.show();"
   ]
  }
 ],
 "metadata": {
  "kernelspec": {
   "display_name": "Python 3",
   "language": "python",
   "name": "python3"
  },
  "language_info": {
   "codemirror_mode": {
    "name": "ipython",
    "version": 3
   },
   "file_extension": ".py",
   "mimetype": "text/x-python",
   "name": "python",
   "nbconvert_exporter": "python",
   "pygments_lexer": "ipython3",
   "version": "3.7.3"
  }
 },
 "nbformat": 4,
 "nbformat_minor": 5
}
