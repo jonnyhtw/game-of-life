{
 "cells": [
  {
   "cell_type": "code",
   "execution_count": 3,
   "id": "5ce3de07",
   "metadata": {},
   "outputs": [
    {
     "data": {
      "text/plain": [
       "'/nesi/nobackup/niwa00013/williamsjh/miniconda3/envs/life/bin/python'"
      ]
     },
     "execution_count": 3,
     "metadata": {},
     "output_type": "execute_result"
    }
   ],
   "source": [
    "import sys\n",
    "sys.executable"
   ]
  },
  {
   "cell_type": "code",
   "execution_count": 238,
   "id": "3f6ad968",
   "metadata": {},
   "outputs": [],
   "source": [
    "import numpy as np\n",
    "import matplotlib.pyplot as plt\n",
    "import copy\n",
    "import animatplot as amp\n",
    "\n",
    "import warnings\n",
    "warnings.filterwarnings(\"ignore\")\n"
   ]
  },
  {
   "cell_type": "code",
   "execution_count": 239,
   "id": "b929ee11",
   "metadata": {},
   "outputs": [],
   "source": [
    "def findneighbours(size, array):\n",
    "\n",
    "    Nn = np.zeros(shape = (size,size))#number of neighbours\n",
    "\n",
    "    for i in range(size):\n",
    "\n",
    "        for j in range(size):\n",
    "\n",
    "            Nn[i,j] = np.sum( [\n",
    "\n",
    "                array[i-1, j-1], \n",
    "                array[i, j-1], \n",
    "                array[i+1-size*(i==size-1), j-1],\n",
    "\n",
    "                array[i-1, j],\n",
    "                array[i+1-size*(i==size-1), j],\n",
    "\n",
    "                array[i-1, j+1-size*(j==size-1)],\n",
    "                array[i, j+1-size*(j==size-1)],\n",
    "                array[i+1-size*(i==size-1), j+1-size*(j==size-1)]                    \n",
    "\n",
    "            ])\n",
    "\n",
    "    return Nn"
   ]
  },
  {
   "cell_type": "code",
   "execution_count": 240,
   "id": "bfa33458",
   "metadata": {},
   "outputs": [],
   "source": [
    "def applyrules(size,Nn, array):\n",
    "    for i in range(size):\n",
    "        for j in range(size):\n",
    "            if array[i,j]==1:\n",
    "                if Nn[i,j] < 2:# Any live cell with fewer than two\n",
    "                               #live neighbours dies, as if by underpopulation.\n",
    "                    array[i,j] = 0\n",
    "                elif Nn[i,j] == 2:# Any live cell with two or three\n",
    "                                                      # live neighbours lives on to the next generation.\n",
    "                    array[i,j] = 1\n",
    "                elif Nn[i,j] == 3:\n",
    "                    array[i,j] = 1\n",
    "                elif Nn[i,j] > 3:# Any live cell with more than three\n",
    "                                 # live neighbours dies, as if by overpopulation.\n",
    "                    array[i,j] = 0\n",
    "            if array[i,j]==0:\n",
    "                if Nn[i,j] == 3:# Any dead cell with exactly three\n",
    "                                #live neighbours becomes a live cell, as if by reproduction.\n",
    "                    array[i,j] = 1\n",
    "                    \n",
    "    return array"
   ]
  },
  {
   "cell_type": "code",
   "execution_count": 241,
   "id": "438fa3ed",
   "metadata": {},
   "outputs": [],
   "source": [
    "def plotarray(size, x):\n",
    "\n",
    "    plt.pcolormesh(np.arange(size), np.arange(size),x, cmap = 'Greys')\n",
    "\n",
    "    ax.axes.xaxis.set_ticklabels([])\n",
    "    ax.axes.yaxis.set_ticklabels([])\n",
    "\n",
    "    ax.tick_params(axis=u'both', which=u'both',length=0)\n",
    "\n",
    "    return myplot"
   ]
  },
  {
   "cell_type": "code",
   "execution_count": 242,
   "id": "edd4f4e4",
   "metadata": {},
   "outputs": [
    {
     "data": {
      "image/png": "[encoded data removed]",
      "text/plain": [
       "<Figure size 432x288 with 25 Axes>"
      ]
     },
     "metadata": {
      "needs_background": "light"
     },
     "output_type": "display_data"
    }
   ],
   "source": [
    "#oscillator\n",
    "\n",
    "size = 10\n",
    "\n",
    "array = np.zeros(shape = (size,size))\n",
    "\n",
    "array[1:4, 2] = 1\n",
    "array = array.astype(int)\n",
    "\n",
    "gens = 25\n",
    "\n",
    "for i in range(gens):\n",
    "\n",
    "    Nn = findneighbours(size, array)\n",
    "    array = applyrules(size,Nn, array)\n",
    "\n",
    "    ax = plt.subplot(np.sqrt(gens),np.sqrt(gens),i+1, aspect = 'equal')\n",
    "    \n",
    "    plotarray(size, array)\n",
    "\n",
    "plt.show();"
   ]
  },
  {
   "cell_type": "code",
   "execution_count": null,
   "id": "0efb5194",
   "metadata": {},
   "outputs": [],
   "source": []
  },
  {
   "cell_type": "code",
   "execution_count": null,
   "id": "4fa76ec1",
   "metadata": {},
   "outputs": [],
   "source": []
  },
  {
   "cell_type": "code",
   "execution_count": null,
   "id": "617cb2d6",
   "metadata": {},
   "outputs": [],
   "source": []
  },
  {
   "cell_type": "code",
   "execution_count": null,
   "id": "9d3dbdad",
   "metadata": {},
   "outputs": [],
   "source": []
  },
  {
   "cell_type": "code",
   "execution_count": null,
   "id": "ef64967f",
   "metadata": {},
   "outputs": [],
   "source": []
  },
  {
   "cell_type": "code",
   "execution_count": null,
   "id": "d4dc4eb5",
   "metadata": {},
   "outputs": [],
   "source": []
  },
  {
   "cell_type": "code",
   "execution_count": null,
   "id": "e1ce6975",
   "metadata": {},
   "outputs": [],
   "source": []
  },
  {
   "cell_type": "code",
   "execution_count": null,
   "id": "32667775",
   "metadata": {},
   "outputs": [],
   "source": []
  },
  {
   "cell_type": "code",
   "execution_count": null,
   "id": "c0deb5af",
   "metadata": {},
   "outputs": [],
   "source": []
  },
  {
   "cell_type": "code",
   "execution_count": null,
   "id": "8b537d34",
   "metadata": {},
   "outputs": [],
   "source": []
  }
 ],
 "metadata": {
  "kernelspec": {
   "display_name": "Python 3",
   "language": "python",
   "name": "python3"
  },
  "language_info": {
   "codemirror_mode": {
    "name": "ipython",
    "version": 3
   },
   "file_extension": ".py",
   "mimetype": "text/x-python",
   "name": "python",
   "nbconvert_exporter": "python",
   "pygments_lexer": "ipython3",
   "version": "3.7.9"
  }
 },
 "nbformat": 4,
 "nbformat_minor": 5
}
