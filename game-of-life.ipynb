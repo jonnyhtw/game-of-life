{
 "cells": [
  {
   "cell_type": "code",
   "execution_count": 26,
   "id": "61e8a1c2",
   "metadata": {},
   "outputs": [],
   "source": [
    "import numpy as np\n",
    "import matplotlib.pyplot as plt\n",
    "import copy"
   ]
  },
  {
   "cell_type": "code",
   "execution_count": 32,
   "id": "7e341201",
   "metadata": {},
   "outputs": [],
   "source": [
    "size = 100\n",
    "\n",
    "init = np.zeros(shape = (size,size))"
   ]
  },
  {
   "cell_type": "code",
   "execution_count": 33,
   "id": "e8e82e2b",
   "metadata": {},
   "outputs": [
    {
     "data": {
      "text/plain": [
       "(100, 100)"
      ]
     },
     "execution_count": 33,
     "metadata": {},
     "output_type": "execute_result"
    }
   ],
   "source": [
    "init.shape"
   ]
  },
  {
   "cell_type": "code",
   "execution_count": 34,
   "id": "f23fe674",
   "metadata": {},
   "outputs": [],
   "source": [
    "array = copy.deepcopy(init)"
   ]
  },
  {
   "cell_type": "code",
   "execution_count": 35,
   "id": "460b4c9f",
   "metadata": {},
   "outputs": [
    {
     "data": {
      "text/plain": [
       "(65, 20)"
      ]
     },
     "execution_count": 35,
     "metadata": {},
     "output_type": "execute_result"
    }
   ],
   "source": [
    "indexx = np.random.randint(0,size-1)\n",
    "indexy = np.random.randint(0,size-1)\n",
    "\n",
    "indexx, indexy"
   ]
  },
  {
   "cell_type": "code",
   "execution_count": 36,
   "id": "c1501720",
   "metadata": {},
   "outputs": [],
   "source": [
    "array[indexx, indexy] = 1"
   ]
  },
  {
   "cell_type": "code",
   "execution_count": 41,
   "id": "3dfd52ed",
   "metadata": {},
   "outputs": [
    {
     "data": {
      "image/png": "[encoded data removed]",
      "text/plain": [
       "<Figure size 360x360 with 1 Axes>"
      ]
     },
     "metadata": {
      "needs_background": "light"
     },
     "output_type": "display_data"
    }
   ],
   "source": [
    "fig = plt.figure(figsize=[5,5])\n",
    "\n",
    "plt.pcolormesh(array)\n",
    "\n",
    "plt.show();"
   ]
  }
 ],
 "metadata": {
  "kernelspec": {
   "display_name": "Python 3",
   "language": "python",
   "name": "python3"
  },
  "language_info": {
   "codemirror_mode": {
    "name": "ipython",
    "version": 3
   },
   "file_extension": ".py",
   "mimetype": "text/x-python",
   "name": "python",
   "nbconvert_exporter": "python",
   "pygments_lexer": "ipython3",
   "version": "3.7.3"
  }
 },
 "nbformat": 4,
 "nbformat_minor": 5
}
