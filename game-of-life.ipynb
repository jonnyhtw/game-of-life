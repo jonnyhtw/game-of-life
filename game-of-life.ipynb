{
 "cells": [
  {
   "cell_type": "code",
   "execution_count": 26,
   "id": "3f6ad968",
   "metadata": {},
   "outputs": [],
   "source": [
    "import numpy as np\n",
    "import matplotlib.pyplot as plt\n",
    "import copy"
   ]
  },
  {
   "cell_type": "code",
   "execution_count": 85,
   "id": "e82a73b5",
   "metadata": {},
   "outputs": [
    {
     "data": {
      "image/png": "[encoded data removed]",
      "text/plain": [
       "<Figure size 360x360 with 1 Axes>"
      ]
     },
     "metadata": {
      "needs_background": "light"
     },
     "output_type": "display_data"
    }
   ],
   "source": [
    "size = 4\n",
    "\n",
    "init = np.zeros(shape = (size,size))\n",
    "\n",
    "init[1:size-1, 1:size-1] = 1\n",
    "\n",
    "init = init.astype(int)\n",
    "\n",
    "fig = plt.figure(figsize=[5,5])\n",
    "\n",
    "ax = plt.subplot(3,3,1)\n",
    "\n",
    "plt.pcolor(init, cmap = 'Greys')\n",
    "\n",
    "plt.grid(snap = 0)\n",
    "\n",
    "plt.xticks([1,2,3])\n",
    "plt.yticks([1,2,3])\n",
    "\n",
    "ax.axes.xaxis.set_ticklabels([])\n",
    "ax.axes.yaxis.set_ticklabels([])\n",
    "\n",
    "ax.tick_params(axis=u'both', which=u'both',length=0)\n",
    "\n",
    "plt.show();"
   ]
  },
  {
   "cell_type": "code",
   "execution_count": 86,
   "id": "4d90a13d",
   "metadata": {},
   "outputs": [
    {
     "data": {
      "text/plain": [
       "1"
      ]
     },
     "execution_count": 86,
     "metadata": {},
     "output_type": "execute_result"
    }
   ],
   "source": [
    "init[1,1]"
   ]
  },
  {
   "cell_type": "markdown",
   "id": "1892178b",
   "metadata": {},
   "source": [
    "## define number of neighbours"
   ]
  },
  {
   "cell_type": "code",
   "execution_count": 88,
   "id": "c5f4f717",
   "metadata": {},
   "outputs": [],
   "source": [
    "Nn = np.zeros(shape = (size,size))\n",
    "\n",
    "i = j = 2\n",
    "\n",
    "Nn = np.sum( [\n",
    "    init[i-1, j-1], \n",
    "    init[i, j-1], \n",
    "    init[i+1, j-1],\n",
    "    init[i-1, j],\n",
    "    init[i+1, j],\n",
    "    init[i-1, j+1],\n",
    "    init[i, j+1],\n",
    "    init[i+1, j+1]                    \n",
    "])"
   ]
  },
  {
   "cell_type": "code",
   "execution_count": 89,
   "id": "b7b5aa97",
   "metadata": {},
   "outputs": [
    {
     "data": {
      "text/plain": [
       "3"
      ]
     },
     "execution_count": 89,
     "metadata": {},
     "output_type": "execute_result"
    }
   ],
   "source": [
    "Nn"
   ]
  },
  {
   "cell_type": "code",
   "execution_count": null,
   "id": "915f50a8",
   "metadata": {},
   "outputs": [],
   "source": []
  },
  {
   "cell_type": "code",
   "execution_count": null,
   "id": "e36cf597",
   "metadata": {},
   "outputs": [],
   "source": []
  },
  {
   "cell_type": "code",
   "execution_count": null,
   "id": "1461b057",
   "metadata": {},
   "outputs": [],
   "source": []
  }
 ],
 "metadata": {
  "kernelspec": {
   "display_name": "Python 3",
   "language": "python",
   "name": "python3"
  },
  "language_info": {
   "codemirror_mode": {
    "name": "ipython",
    "version": 3
   },
   "file_extension": ".py",
   "mimetype": "text/x-python",
   "name": "python",
   "nbconvert_exporter": "python",
   "pygments_lexer": "ipython3",
   "version": "3.7.3"
  }
 },
 "nbformat": 4,
 "nbformat_minor": 5
}
