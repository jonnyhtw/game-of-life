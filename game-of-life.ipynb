{
 "cells": [
  {
   "cell_type": "code",
   "execution_count": 1,
   "id": "5ce3de07",
   "metadata": {},
   "outputs": [
    {
     "data": {
      "text/plain": [
       "'/nesi/nobackup/niwa00013/williamsjh/miniconda3/envs/life/bin/python'"
      ]
     },
     "execution_count": 1,
     "metadata": {},
     "output_type": "execute_result"
    }
   ],
   "source": [
    "import sys\n",
    "sys.executable"
   ]
  },
  {
   "cell_type": "code",
   "execution_count": 2,
   "id": "3f6ad968",
   "metadata": {},
   "outputs": [],
   "source": [
    "import numpy as np\n",
    "import matplotlib.pyplot as plt\n",
    "import copy\n",
    "import animatplot as amp\n",
    "from matplotlib import animation\n",
    "\n",
    "import warnings\n",
    "warnings.filterwarnings(\"ignore\")\n"
   ]
  },
  {
   "cell_type": "code",
   "execution_count": 3,
   "id": "bfa33458",
   "metadata": {},
   "outputs": [],
   "source": [
    "def applyrules(size,Nn, array):\n",
    "    for i in range(size):\n",
    "        for j in range(size):\n",
    "            if array[i,j]==1:\n",
    "                if Nn[i,j] < 2:# Any live cell with fewer than two\n",
    "                               #live neighbours dies, as if by underpopulation.\n",
    "                    array[i,j] = 0\n",
    "                elif Nn[i,j] == 2:# Any live cell with two or three\n",
    "                                                      # live neighbours lives on to the next generation.\n",
    "                    array[i,j] = 1\n",
    "                elif Nn[i,j] == 3:\n",
    "                    array[i,j] = 1\n",
    "                elif Nn[i,j] > 3:# Any live cell with more than three\n",
    "                                 # live neighbours dies, as if by overpopulation.\n",
    "                    array[i,j] = 0\n",
    "            if array[i,j]==0:\n",
    "                if Nn[i,j] == 3:# Any dead cell with exactly three\n",
    "                                #live neighbours becomes a live cell, as if by reproduction.\n",
    "                    array[i,j] = 1\n",
    "                    \n",
    "    return array"
   ]
  },
  {
   "cell_type": "code",
   "execution_count": 4,
   "id": "b929ee11",
   "metadata": {},
   "outputs": [],
   "source": [
    "def findneighbours(size, array):\n",
    "\n",
    "    Nn = np.zeros(shape = (size,size))#number of neighbours\n",
    "\n",
    "    for i in range(size):\n",
    "        \n",
    "        for j in range(size):\n",
    "\n",
    "            Nn[i,j] = np.sum( [\n",
    "\n",
    "                array[i-1, j-1], \n",
    "                array[i, j-1], \n",
    "                array[i+1-size*(i==size-1), j-1],\n",
    "\n",
    "                array[i-1, j],\n",
    "                array[i+1-size*(i==size-1), j],\n",
    "\n",
    "                array[i-1, j+1-size*(j==size-1)],\n",
    "                array[i, j+1-size*(j==size-1)],\n",
    "                array[i+1-size*(i==size-1), j+1-size*(j==size-1)]                    \n",
    "\n",
    "            ])\n",
    "            \n",
    "\n",
    "    return Nn"
   ]
  },
  {
   "cell_type": "code",
   "execution_count": 5,
   "id": "655bb0de",
   "metadata": {},
   "outputs": [],
   "source": [
    "def plotarray(size, x):\n",
    "\n",
    "    myplot = plt.imshow(x)\n",
    "\n",
    "    ax.axes.xaxis.set_ticklabels([])\n",
    "    ax.axes.yaxis.set_ticklabels([])\n",
    "\n",
    "    ax.tick_params(axis=u'both', which=u'both',length=0)\n",
    "\n",
    "    return myplot"
   ]
  },
  {
   "cell_type": "code",
   "execution_count": 6,
   "id": "ff40ecd0",
   "metadata": {},
   "outputs": [],
   "source": [
    "size = 20"
   ]
  },
  {
   "cell_type": "code",
   "execution_count": 19,
   "id": "85b3b0b1",
   "metadata": {},
   "outputs": [],
   "source": [
    "#glider\n",
    "\n",
    "array = np.zeros(shape = (size,size))\n",
    "\n",
    "array[0, 1:4] = 1\n",
    "array[1, 3] = 1\n",
    "array[2, 2] = 1"
   ]
  },
  {
   "cell_type": "code",
   "execution_count": 11,
   "id": "26163b7a",
   "metadata": {},
   "outputs": [],
   "source": [
    "%matplotlib inline\n",
    "import time\n",
    "import pylab as pl\n",
    "from IPython import display"
   ]
  },
  {
   "cell_type": "code",
   "execution_count": 24,
   "id": "edd4f4e4",
   "metadata": {},
   "outputs": [
    {
     "data": {
      "image/png": "[encoded data removed]",
      "text/plain": [
       "<Figure size 360x360 with 1 Axes>"
      ]
     },
     "metadata": {},
     "output_type": "display_data"
    }
   ],
   "source": [
    "gens = 100\n",
    "\n",
    "for gen in range(gens):\n",
    "    \n",
    "    fig = plt.figure(figsize=[5,5])\n",
    "\n",
    "    Nn = findneighbours(size, array)\n",
    "\n",
    "    array = applyrules(size,Nn, array)\n",
    "\n",
    "    ax = plt.subplot(1,1,1, aspect = 'equal')\n",
    "    \n",
    "    plt.imshow(array)\n",
    "    plt.gca().invert_yaxis()\n",
    "    \n",
    "    \n",
    "    display.clear_output(wait=True) \n",
    "    display.display(pl.gcf())\n",
    "    time.sleep(0.01)\n",
    "    plt.close()\n",
    "\n"
   ]
  },
  {
   "cell_type": "code",
   "execution_count": null,
   "id": "27d9f446",
   "metadata": {},
   "outputs": [],
   "source": []
  },
  {
   "cell_type": "code",
   "execution_count": null,
   "id": "8b1b8510",
   "metadata": {},
   "outputs": [],
   "source": []
  },
  {
   "cell_type": "code",
   "execution_count": null,
   "id": "8b537d34",
   "metadata": {},
   "outputs": [],
   "source": []
  },
  {
   "cell_type": "code",
   "execution_count": null,
   "id": "bc56308f",
   "metadata": {},
   "outputs": [],
   "source": []
  }
 ],
 "metadata": {
  "kernelspec": {
   "display_name": "Python 3",
   "language": "python",
   "name": "python3"
  },
  "language_info": {
   "codemirror_mode": {
    "name": "ipython",
    "version": 3
   },
   "file_extension": ".py",
   "mimetype": "text/x-python",
   "name": "python",
   "nbconvert_exporter": "python",
   "pygments_lexer": "ipython3",
   "version": "3.7.9"
  }
 },
 "nbformat": 4,
 "nbformat_minor": 5
}
