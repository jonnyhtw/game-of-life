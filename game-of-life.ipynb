{
 "cells": [
  {
   "cell_type": "code",
   "execution_count": 26,
   "id": "3f6ad968",
   "metadata": {},
   "outputs": [],
   "source": [
    "import numpy as np\n",
    "import matplotlib.pyplot as plt\n",
    "import copy"
   ]
  },
  {
   "cell_type": "code",
   "execution_count": 108,
   "id": "e82a73b5",
   "metadata": {},
   "outputs": [
    {
     "data": {
      "image/png": "[encoded data removed]",
      "text/plain": [
       "<Figure size 360x360 with 1 Axes>"
      ]
     },
     "metadata": {
      "needs_background": "light"
     },
     "output_type": "display_data"
    }
   ],
   "source": [
    "size = 4\n",
    "\n",
    "init = np.zeros(shape = (size,size))\n",
    "\n",
    "init[1:size-1, 1:size-1] = 1\n",
    "\n",
    "init = init.astype(int)\n",
    "\n",
    "fig = plt.figure(figsize=[5,5])\n",
    "\n",
    "ax = plt.subplot(3,3,1)\n",
    "\n",
    "plt.pcolor(init, cmap = 'Greys')\n",
    "\n",
    "plt.grid(snap = 0)\n",
    "\n",
    "plt.xticks([1,2,3])\n",
    "plt.yticks([1,2,3])\n",
    "\n",
    "ax.axes.xaxis.set_ticklabels([])\n",
    "ax.axes.yaxis.set_ticklabels([])\n",
    "\n",
    "ax.tick_params(axis=u'both', which=u'both',length=0)\n",
    "\n",
    "plt.show();"
   ]
  },
  {
   "cell_type": "code",
   "execution_count": 109,
   "id": "ebd45a98",
   "metadata": {},
   "outputs": [
    {
     "data": {
      "text/plain": [
       "1"
      ]
     },
     "execution_count": 109,
     "metadata": {},
     "output_type": "execute_result"
    }
   ],
   "source": [
    "init[1,1]"
   ]
  },
  {
   "cell_type": "markdown",
   "id": "18a1d19e",
   "metadata": {},
   "source": [
    "## define number of neighbours"
   ]
  },
  {
   "cell_type": "code",
   "execution_count": 143,
   "id": "b929ee11",
   "metadata": {},
   "outputs": [
    {
     "name": "stdout",
     "output_type": "stream",
     "text": [
      "[[0 0 0 0]\n",
      " [0 1 1 0]\n",
      " [0 1 1 0]\n",
      " [0 0 0 0]]\n",
      "[[1. 2. 2. 1.]\n",
      " [2. 3. 3. 2.]\n",
      " [2. 3. 3. 2.]\n",
      " [1. 2. 2. 1.]]\n"
     ]
    }
   ],
   "source": [
    "Nn = np.zeros(shape = (size,size))\n",
    "\n",
    "print(init)\n",
    "\n",
    "for i in range(size):\n",
    "\n",
    "    for j in range(size):\n",
    "\n",
    "        I = i\n",
    "        J = j\n",
    "        \n",
    "#         print('i',i,'j',j)\n",
    "        \n",
    "#         if i == size-1:\n",
    "#             I = 0\n",
    "#         print('i',i,'I',I)\n",
    "            \n",
    "#         if j == size-1:\n",
    "#             J = 0\n",
    "#         print('j',j,'J',J)\n",
    "            \n",
    "        Nn[i,j] = np.sum( [\n",
    "            \n",
    "            init[i-1, j-1], \n",
    "            init[i, j-1], \n",
    "            init[i+1-size*(i==size-1), j-1],\n",
    "            \n",
    "            init[i-1, j],\n",
    "            init[i+1-size*(i==size-1), j],\n",
    "            \n",
    "            init[i-1, j+1-size*(j==size-1)],\n",
    "            init[i, j+1-size*(j==size-1)],\n",
    "            init[i+1-size*(i==size-1), j+1-size*(j==size-1)]                    \n",
    "            \n",
    "        ])\n",
    "        \n",
    "print(Nn)"
   ]
  },
  {
   "cell_type": "code",
   "execution_count": 141,
   "id": "fe9f7810",
   "metadata": {},
   "outputs": [
    {
     "data": {
      "text/plain": [
       "0"
      ]
     },
     "execution_count": 141,
     "metadata": {},
     "output_type": "execute_result"
    }
   ],
   "source": [
    "i+1-size*(i==size-1)"
   ]
  },
  {
   "cell_type": "code",
   "execution_count": 135,
   "id": "9b0b804f",
   "metadata": {},
   "outputs": [
    {
     "data": {
      "text/plain": [
       "True"
      ]
     },
     "execution_count": 135,
     "metadata": {},
     "output_type": "execute_result"
    }
   ],
   "source": [
    "i==size-1"
   ]
  },
  {
   "cell_type": "code",
   "execution_count": null,
   "id": "e072dade",
   "metadata": {},
   "outputs": [],
   "source": []
  }
 ],
 "metadata": {
  "kernelspec": {
   "display_name": "Python 3",
   "language": "python",
   "name": "python3"
  },
  "language_info": {
   "codemirror_mode": {
    "name": "ipython",
    "version": 3
   },
   "file_extension": ".py",
   "mimetype": "text/x-python",
   "name": "python",
   "nbconvert_exporter": "python",
   "pygments_lexer": "ipython3",
   "version": "3.7.3"
  }
 },
 "nbformat": 4,
 "nbformat_minor": 5
}
