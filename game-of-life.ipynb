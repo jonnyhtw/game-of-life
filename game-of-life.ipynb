{
 "cells": [
  {
   "cell_type": "code",
   "execution_count": 20,
   "id": "3f6ad968",
   "metadata": {},
   "outputs": [],
   "source": [
    "import numpy as np\n",
    "import matplotlib.pyplot as plt\n",
    "import copy"
   ]
  },
  {
   "cell_type": "code",
   "execution_count": 37,
   "id": "b929ee11",
   "metadata": {},
   "outputs": [],
   "source": [
    "def findneighbours(size, array):\n",
    "\n",
    "    Nn = np.zeros(shape = (size,size))#number of neighbours\n",
    "\n",
    "    for i in range(size):\n",
    "\n",
    "        for j in range(size):\n",
    "\n",
    "            Nn[i,j] = np.sum( [\n",
    "\n",
    "                array[i-1, j-1], \n",
    "                array[i, j-1], \n",
    "                array[i+1-size*(i==size-1), j-1],\n",
    "\n",
    "                array[i-1, j],\n",
    "                array[i+1-size*(i==size-1), j],\n",
    "\n",
    "                array[i-1, j+1-size*(j==size-1)],\n",
    "                array[i, j+1-size*(j==size-1)],\n",
    "                array[i+1-size*(i==size-1), j+1-size*(j==size-1)]                    \n",
    "\n",
    "            ])\n",
    "\n",
    "    return Nn"
   ]
  },
  {
   "cell_type": "code",
   "execution_count": 33,
   "id": "dec3299b",
   "metadata": {},
   "outputs": [],
   "source": [
    "def applyrules(size,Nn, array):\n",
    "    for i in range(size):\n",
    "        for j in range(size):\n",
    "            if array[i,j]==1:\n",
    "                if Nn[i,j] < 2:# Any live cell with fewer than two live neighbours dies, as if by underpopulation.\n",
    "                    array[i] = 0\n",
    "                elif (Nn[i,j] == 2) or (Nn[i,j] == 3):# Any live cell with two or three live neighbours lives on to the next generation.\n",
    "                    pass\n",
    "                elif Nn[i,j] > 3:# Any live cell with more than three live neighbours dies, as if by overpopulation.\n",
    "                    array[i,j] = 0\n",
    "            else:\n",
    "                if Nn[i,j] == 3:# Any dead cell with exactly three live neighbours becomes a live cell, as if by reproduction.\n",
    "                    array[i,j] = 1\n"
   ]
  },
  {
   "cell_type": "code",
   "execution_count": 21,
   "id": "85410072",
   "metadata": {},
   "outputs": [],
   "source": [
    "def plotarray(x):\n",
    "    fig = plt.figure(figsize=[5,5])\n",
    "\n",
    "    ax = plt.subplot(3,3,1)\n",
    "\n",
    "    plt.pcolor(x, cmap = 'Greys')\n",
    "\n",
    "    plt.grid(snap = 0)\n",
    "\n",
    "    plt.xticks([1,2,3])\n",
    "    plt.yticks([1,2,3])\n",
    "\n",
    "    ax.axes.xaxis.set_ticklabels([])\n",
    "    ax.axes.yaxis.set_ticklabels([])\n",
    "\n",
    "    ax.tick_params(axis=u'both', which=u'both',length=0)\n",
    "\n",
    "    plt.show();"
   ]
  },
  {
   "cell_type": "code",
   "execution_count": 22,
   "id": "1fda4c4f",
   "metadata": {},
   "outputs": [],
   "source": [
    "size = 4\n",
    "\n",
    "array = np.zeros(shape = (size,size))\n",
    "\n"
   ]
  },
  {
   "cell_type": "code",
   "execution_count": 42,
   "id": "66923365",
   "metadata": {},
   "outputs": [],
   "source": [
    "#block \n",
    "array[1:size-1, 1:size-1] = 1\n",
    "\n",
    "array = array.astype(int)"
   ]
  },
  {
   "cell_type": "code",
   "execution_count": 43,
   "id": "8d1b55b1",
   "metadata": {},
   "outputs": [
    {
     "data": {
      "image/png": "[encoded data removed]",
      "text/plain": [
       "<Figure size 360x360 with 1 Axes>"
      ]
     },
     "metadata": {
      "needs_background": "light"
     },
     "output_type": "display_data"
    },
    {
     "data": {
      "image/png": "[encoded data removed]",
      "text/plain": [
       "<Figure size 360x360 with 1 Axes>"
      ]
     },
     "metadata": {
      "needs_background": "light"
     },
     "output_type": "display_data"
    },
    {
     "data": {
      "image/png": "[encoded data removed]",
      "text/plain": [
       "<Figure size 360x360 with 1 Axes>"
      ]
     },
     "metadata": {
      "needs_background": "light"
     },
     "output_type": "display_data"
    },
    {
     "data": {
      "image/png": "[encoded data removed]",
      "text/plain": [
       "<Figure size 360x360 with 1 Axes>"
      ]
     },
     "metadata": {
      "needs_background": "light"
     },
     "output_type": "display_data"
    },
    {
     "data": {
      "image/png": "[encoded data removed]",
      "text/plain": [
       "<Figure size 360x360 with 1 Axes>"
      ]
     },
     "metadata": {
      "needs_background": "light"
     },
     "output_type": "display_data"
    },
    {
     "data": {
      "image/png": "[encoded data removed]",
      "text/plain": [
       "<Figure size 360x360 with 1 Axes>"
      ]
     },
     "metadata": {
      "needs_background": "light"
     },
     "output_type": "display_data"
    },
    {
     "data": {
      "image/png": "[encoded data removed]",
      "text/plain": [
       "<Figure size 360x360 with 1 Axes>"
      ]
     },
     "metadata": {
      "needs_background": "light"
     },
     "output_type": "display_data"
    },
    {
     "data": {
      "image/png": "[encoded data removed]",
      "text/plain": [
       "<Figure size 360x360 with 1 Axes>"
      ]
     },
     "metadata": {
      "needs_background": "light"
     },
     "output_type": "display_data"
    },
    {
     "data": {
      "image/png": "[encoded data removed]",
      "text/plain": [
       "<Figure size 360x360 with 1 Axes>"
      ]
     },
     "metadata": {
      "needs_background": "light"
     },
     "output_type": "display_data"
    }
   ],
   "source": [
    "for i in range(9):\n",
    "\n",
    "    findneighbours(size, array)\n",
    "    applyrules(size,Nn, array)\n",
    "    plotarray(array)"
   ]
  },
  {
   "cell_type": "code",
   "execution_count": null,
   "id": "d62d9719",
   "metadata": {},
   "outputs": [],
   "source": []
  },
  {
   "cell_type": "code",
   "execution_count": null,
   "id": "96ecc889",
   "metadata": {},
   "outputs": [],
   "source": []
  },
  {
   "cell_type": "code",
   "execution_count": null,
   "id": "c08d499f",
   "metadata": {},
   "outputs": [],
   "source": []
  },
  {
   "cell_type": "code",
   "execution_count": null,
   "id": "36d6f696",
   "metadata": {},
   "outputs": [],
   "source": []
  },
  {
   "cell_type": "code",
   "execution_count": null,
   "id": "904ff113",
   "metadata": {},
   "outputs": [],
   "source": []
  }
 ],
 "metadata": {
  "kernelspec": {
   "display_name": "Python 3",
   "language": "python",
   "name": "python3"
  },
  "language_info": {
   "codemirror_mode": {
    "name": "ipython",
    "version": 3
   },
   "file_extension": ".py",
   "mimetype": "text/x-python",
   "name": "python",
   "nbconvert_exporter": "python",
   "pygments_lexer": "ipython3",
   "version": "3.8.8"
  }
 },
 "nbformat": 4,
 "nbformat_minor": 5
}
