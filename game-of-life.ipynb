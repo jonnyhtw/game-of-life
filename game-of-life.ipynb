{
 "cells": [
  {
   "cell_type": "code",
   "execution_count": 26,
   "id": "3f6ad968",
   "metadata": {},
   "outputs": [],
   "source": [
    "import numpy as np\n",
    "import matplotlib.pyplot as plt\n",
    "import copy"
   ]
  },
  {
   "cell_type": "code",
   "execution_count": 85,
   "id": "e82a73b5",
   "metadata": {},
   "outputs": [
    {
     "data": {
      "image/png": "[encoded data removed]",
      "text/plain": [
       "<Figure size 360x360 with 1 Axes>"
      ]
     },
     "metadata": {
      "needs_background": "light"
     },
     "output_type": "display_data"
    }
   ],
   "source": [
    "size = 4\n",
    "\n",
    "init = np.zeros(shape = (size,size))\n",
    "\n",
    "init[1:size-1, 1:size-1] = 1\n",
    "\n",
    "init = init.astype(int)\n",
    "\n",
    "fig = plt.figure(figsize=[5,5])\n",
    "\n",
    "ax = plt.subplot(3,3,1)\n",
    "\n",
    "plt.pcolor(init, cmap = 'Greys')\n",
    "\n",
    "plt.grid(snap = 0)\n",
    "\n",
    "plt.xticks([1,2,3])\n",
    "plt.yticks([1,2,3])\n",
    "\n",
    "ax.axes.xaxis.set_ticklabels([])\n",
    "ax.axes.yaxis.set_ticklabels([])\n",
    "\n",
    "ax.tick_params(axis=u'both', which=u'both',length=0)\n",
    "\n",
    "plt.show();"
   ]
  },
  {
   "cell_type": "code",
   "execution_count": 86,
   "id": "b06d2dd7",
   "metadata": {},
   "outputs": [
    {
     "data": {
      "text/plain": [
       "1"
      ]
     },
     "execution_count": 86,
     "metadata": {},
     "output_type": "execute_result"
    }
   ],
   "source": [
    "init[1,1]"
   ]
  },
  {
   "cell_type": "markdown",
   "id": "12585035",
   "metadata": {},
   "source": [
    "## define number of neighbours"
   ]
  },
  {
   "cell_type": "code",
   "execution_count": 103,
   "id": "9ec57716",
   "metadata": {},
   "outputs": [
    {
     "name": "stdout",
     "output_type": "stream",
     "text": [
      "[[1. 2. 2. 2.]\n",
      " [2. 3. 3. 3.]\n",
      " [2. 3. 3. 3.]\n",
      " [2. 3. 3. 3.]]\n"
     ]
    }
   ],
   "source": [
    "Nn = np.zeros(shape = (size,size))\n",
    "\n",
    "for i in range(size):\n",
    "\n",
    "    for j in range(size):\n",
    "\n",
    "        I = i\n",
    "        J = j\n",
    "        \n",
    "#         print(i,j)\n",
    "        \n",
    "        if i == size-1:\n",
    "            I = I-1\n",
    "            \n",
    "        if j == size-1:\n",
    "            J = j-1\n",
    "            \n",
    "        Nn[i,j] = np.sum( [\n",
    "            init[I-1, J-1], \n",
    "            init[I, J-1], \n",
    "            init[I+1, J-1],\n",
    "            init[I-1, J],\n",
    "            init[I+1, J],\n",
    "            init[I-1, J+1],\n",
    "            init[I, J+1],\n",
    "            init[I+1, J+1]                    \n",
    "        ])\n",
    "        \n",
    "print(Nn)"
   ]
  },
  {
   "cell_type": "code",
   "execution_count": null,
   "id": "e4804ba0",
   "metadata": {},
   "outputs": [],
   "source": []
  },
  {
   "cell_type": "code",
   "execution_count": null,
   "id": "bcb4871f",
   "metadata": {},
   "outputs": [],
   "source": []
  },
  {
   "cell_type": "code",
   "execution_count": null,
   "id": "9f351d41",
   "metadata": {},
   "outputs": [],
   "source": []
  }
 ],
 "metadata": {
  "kernelspec": {
   "display_name": "Python 3",
   "language": "python",
   "name": "python3"
  },
  "language_info": {
   "codemirror_mode": {
    "name": "ipython",
    "version": 3
   },
   "file_extension": ".py",
   "mimetype": "text/x-python",
   "name": "python",
   "nbconvert_exporter": "python",
   "pygments_lexer": "ipython3",
   "version": "3.7.3"
  }
 },
 "nbformat": 4,
 "nbformat_minor": 5
}
